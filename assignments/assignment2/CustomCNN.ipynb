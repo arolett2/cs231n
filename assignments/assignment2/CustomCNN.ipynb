{
 "cells": [
  {
   "cell_type": "code",
   "execution_count": 1,
   "metadata": {
    "collapsed": false
   },
   "outputs": [],
   "source": [
    "# As usual, a bit of setup\n",
    "\n",
    "import numpy as np\n",
    "import matplotlib.pyplot as plt\n",
    "from cs231n.classifiers.customcnn import *\n",
    "from cs231n.data_utils import get_CIFAR10_data\n",
    "from cs231n.gradient_check import eval_numerical_gradient_array, eval_numerical_gradient\n",
    "from cs231n.layers import *\n",
    "from cs231n.fast_layers import *\n",
    "from cs231n.solver import Solver\n",
    "\n",
    "%matplotlib inline\n",
    "plt.rcParams['figure.figsize'] = (10.0, 8.0) # set default size of plots\n",
    "plt.rcParams['image.interpolation'] = 'nearest'\n",
    "plt.rcParams['image.cmap'] = 'gray'\n",
    "\n",
    "# for auto-reloading external modules\n",
    "# see http://stackoverflow.com/questions/1907993/autoreload-of-modules-in-ipython\n",
    "%load_ext autoreload\n",
    "%autoreload 2\n",
    "\n",
    "def rel_error(x, y):\n",
    "  \"\"\" returns relative error \"\"\"\n",
    "  return np.max(np.abs(x - y) / (np.maximum(1e-8, np.abs(x) + np.abs(y))))"
   ]
  },
  {
   "cell_type": "code",
   "execution_count": 2,
   "metadata": {
    "collapsed": false
   },
   "outputs": [
    {
     "name": "stdout",
     "output_type": "stream",
     "text": [
      "X_val:  (1000, 3, 32, 32)\n",
      "X_train:  (49000, 3, 32, 32)\n",
      "X_test:  (1000, 3, 32, 32)\n",
      "y_val:  (1000,)\n",
      "y_train:  (49000,)\n",
      "y_test:  (1000,)\n"
     ]
    }
   ],
   "source": [
    "# Load the (preprocessed) CIFAR10 data.\n",
    "\n",
    "data = get_CIFAR10_data()\n",
    "for k, v in data.iteritems():\n",
    "  print '%s: ' % k, v.shape"
   ]
  },
  {
   "cell_type": "code",
   "execution_count": 19,
   "metadata": {
    "collapsed": false
   },
   "outputs": [
    {
     "name": "stdout",
     "output_type": "stream",
     "text": [
      "W1 (64, 3, 3, 3)\n",
      "W3 (100, 10)\n",
      "b1 (64,)\n",
      "b2 (100,)\n",
      "b3 (10,)\n",
      "W2 (16384, 100)\n",
      "(Iteration 1 / 980) loss: 2.303360\n",
      "(Epoch 0 / 1) train acc: 0.100000; val_acc: 0.112000\n",
      "(Iteration 21 / 980) loss: 2.154510\n",
      "(Iteration 41 / 980) loss: 2.214196\n",
      "(Iteration 61 / 980) loss: 1.843247\n",
      "(Iteration 81 / 980) loss: 1.769953\n",
      "(Iteration 101 / 980) loss: 1.667163\n",
      "(Iteration 121 / 980) loss: 1.653933\n",
      "(Iteration 141 / 980) loss: 1.616084\n",
      "(Iteration 161 / 980) loss: 1.829070\n",
      "(Iteration 181 / 980) loss: 1.638083\n",
      "(Iteration 201 / 980) loss: 1.793520\n",
      "(Iteration 221 / 980) loss: 1.503453\n",
      "(Iteration 241 / 980) loss: 1.670234\n",
      "(Iteration 261 / 980) loss: 1.544840\n",
      "(Iteration 281 / 980) loss: 1.670234\n",
      "(Iteration 301 / 980) loss: 1.403292\n",
      "(Iteration 321 / 980) loss: 1.490693\n",
      "(Iteration 341 / 980) loss: 1.526679\n",
      "(Iteration 361 / 980) loss: 1.653968\n",
      "(Iteration 381 / 980) loss: 1.234494\n",
      "(Iteration 401 / 980) loss: 1.512172\n",
      "(Iteration 421 / 980) loss: 1.734650\n",
      "(Iteration 441 / 980) loss: 1.359421\n"
     ]
    },
    {
     "ename": "KeyboardInterrupt",
     "evalue": "",
     "output_type": "error",
     "traceback": [
      "\u001b[0;31m---------------------------------------------------------------------------\u001b[0m",
      "\u001b[0;31mKeyboardInterrupt\u001b[0m                         Traceback (most recent call last)",
      "\u001b[0;32m<ipython-input-19-51db5d3d8af9>\u001b[0m in \u001b[0;36m<module>\u001b[0;34m()\u001b[0m\n\u001b[1;32m     11\u001b[0m                 },\n\u001b[1;32m     12\u001b[0m                 verbose=True, print_every=20)\n\u001b[0;32m---> 13\u001b[0;31m \u001b[0msolver\u001b[0m\u001b[0;34m.\u001b[0m\u001b[0mtrain\u001b[0m\u001b[0;34m(\u001b[0m\u001b[0;34m)\u001b[0m\u001b[0;34m\u001b[0m\u001b[0m\n\u001b[0m",
      "\u001b[0;32m/Users/arolett/Desktop/class/cs231n/assignment2/cs231n/solver.pyc\u001b[0m in \u001b[0;36mtrain\u001b[0;34m(self)\u001b[0m\n\u001b[1;32m    225\u001b[0m \u001b[0;34m\u001b[0m\u001b[0m\n\u001b[1;32m    226\u001b[0m     \u001b[0;32mfor\u001b[0m \u001b[0mt\u001b[0m \u001b[0;32min\u001b[0m \u001b[0mxrange\u001b[0m\u001b[0;34m(\u001b[0m\u001b[0mnum_iterations\u001b[0m\u001b[0;34m)\u001b[0m\u001b[0;34m:\u001b[0m\u001b[0;34m\u001b[0m\u001b[0m\n\u001b[0;32m--> 227\u001b[0;31m       \u001b[0mself\u001b[0m\u001b[0;34m.\u001b[0m\u001b[0m_step\u001b[0m\u001b[0;34m(\u001b[0m\u001b[0;34m)\u001b[0m\u001b[0;34m\u001b[0m\u001b[0m\n\u001b[0m\u001b[1;32m    228\u001b[0m \u001b[0;34m\u001b[0m\u001b[0m\n\u001b[1;32m    229\u001b[0m       \u001b[0;31m# Maybe print training loss\u001b[0m\u001b[0;34m\u001b[0m\u001b[0;34m\u001b[0m\u001b[0m\n",
      "\u001b[0;32m/Users/arolett/Desktop/class/cs231n/assignment2/cs231n/solver.pyc\u001b[0m in \u001b[0;36m_step\u001b[0;34m(self)\u001b[0m\n\u001b[1;32m    170\u001b[0m       \u001b[0mdw\u001b[0m \u001b[0;34m=\u001b[0m \u001b[0mgrads\u001b[0m\u001b[0;34m[\u001b[0m\u001b[0mp\u001b[0m\u001b[0;34m]\u001b[0m\u001b[0;34m\u001b[0m\u001b[0m\n\u001b[1;32m    171\u001b[0m       \u001b[0mconfig\u001b[0m \u001b[0;34m=\u001b[0m \u001b[0mself\u001b[0m\u001b[0;34m.\u001b[0m\u001b[0moptim_configs\u001b[0m\u001b[0;34m[\u001b[0m\u001b[0mp\u001b[0m\u001b[0;34m]\u001b[0m\u001b[0;34m\u001b[0m\u001b[0m\n\u001b[0;32m--> 172\u001b[0;31m       \u001b[0mnext_w\u001b[0m\u001b[0;34m,\u001b[0m \u001b[0mnext_config\u001b[0m \u001b[0;34m=\u001b[0m \u001b[0mself\u001b[0m\u001b[0;34m.\u001b[0m\u001b[0mupdate_rule\u001b[0m\u001b[0;34m(\u001b[0m\u001b[0mw\u001b[0m\u001b[0;34m,\u001b[0m \u001b[0mdw\u001b[0m\u001b[0;34m,\u001b[0m \u001b[0mconfig\u001b[0m\u001b[0;34m)\u001b[0m\u001b[0;34m\u001b[0m\u001b[0m\n\u001b[0m\u001b[1;32m    173\u001b[0m       \u001b[0mself\u001b[0m\u001b[0;34m.\u001b[0m\u001b[0mmodel\u001b[0m\u001b[0;34m.\u001b[0m\u001b[0mparams\u001b[0m\u001b[0;34m[\u001b[0m\u001b[0mp\u001b[0m\u001b[0;34m]\u001b[0m \u001b[0;34m=\u001b[0m \u001b[0mnext_w\u001b[0m\u001b[0;34m\u001b[0m\u001b[0m\n\u001b[1;32m    174\u001b[0m       \u001b[0mself\u001b[0m\u001b[0;34m.\u001b[0m\u001b[0moptim_configs\u001b[0m\u001b[0;34m[\u001b[0m\u001b[0mp\u001b[0m\u001b[0;34m]\u001b[0m \u001b[0;34m=\u001b[0m \u001b[0mnext_config\u001b[0m\u001b[0;34m\u001b[0m\u001b[0m\n",
      "\u001b[0;32m/Users/arolett/Desktop/class/cs231n/assignment2/cs231n/optim.pyc\u001b[0m in \u001b[0;36madam\u001b[0;34m(x, dx, config)\u001b[0m\n\u001b[1;32m    146\u001b[0m   \u001b[0mmb\u001b[0m \u001b[0;34m=\u001b[0m \u001b[0mm\u001b[0m\u001b[0;34m/\u001b[0m\u001b[0;34m(\u001b[0m\u001b[0;36m1\u001b[0m \u001b[0;34m-\u001b[0m \u001b[0mconfig\u001b[0m\u001b[0;34m[\u001b[0m\u001b[0;34m'beta1'\u001b[0m\u001b[0;34m]\u001b[0m\u001b[0;34m**\u001b[0m\u001b[0mt\u001b[0m\u001b[0;34m)\u001b[0m\u001b[0;34m\u001b[0m\u001b[0m\n\u001b[1;32m    147\u001b[0m   \u001b[0mvb\u001b[0m \u001b[0;34m=\u001b[0m \u001b[0mv\u001b[0m\u001b[0;34m/\u001b[0m\u001b[0;34m(\u001b[0m\u001b[0;36m1\u001b[0m \u001b[0;34m-\u001b[0m \u001b[0mconfig\u001b[0m\u001b[0;34m[\u001b[0m\u001b[0;34m'beta2'\u001b[0m\u001b[0;34m]\u001b[0m\u001b[0;34m**\u001b[0m\u001b[0mt\u001b[0m\u001b[0;34m)\u001b[0m\u001b[0;34m\u001b[0m\u001b[0m\n\u001b[0;32m--> 148\u001b[0;31m   \u001b[0mnext_x\u001b[0m \u001b[0;34m+=\u001b[0m \u001b[0;34m-\u001b[0m\u001b[0;34m(\u001b[0m\u001b[0mconfig\u001b[0m\u001b[0;34m[\u001b[0m\u001b[0;34m'learning_rate'\u001b[0m\u001b[0;34m]\u001b[0m \u001b[0;34m*\u001b[0m \u001b[0mmb\u001b[0m\u001b[0;34m)\u001b[0m \u001b[0;34m/\u001b[0m \u001b[0;34m(\u001b[0m\u001b[0mnp\u001b[0m\u001b[0;34m.\u001b[0m\u001b[0msqrt\u001b[0m\u001b[0;34m(\u001b[0m\u001b[0mvb\u001b[0m\u001b[0;34m)\u001b[0m \u001b[0;34m+\u001b[0m \u001b[0mconfig\u001b[0m\u001b[0;34m[\u001b[0m\u001b[0;34m'epsilon'\u001b[0m\u001b[0;34m]\u001b[0m\u001b[0;34m)\u001b[0m\u001b[0;34m\u001b[0m\u001b[0m\n\u001b[0m\u001b[1;32m    149\u001b[0m   \u001b[0mconfig\u001b[0m\u001b[0;34m[\u001b[0m\u001b[0;34m'm'\u001b[0m\u001b[0;34m]\u001b[0m \u001b[0;34m=\u001b[0m \u001b[0mm\u001b[0m\u001b[0;34m\u001b[0m\u001b[0m\n\u001b[1;32m    150\u001b[0m   \u001b[0mconfig\u001b[0m\u001b[0;34m[\u001b[0m\u001b[0;34m'v'\u001b[0m\u001b[0;34m]\u001b[0m \u001b[0;34m=\u001b[0m \u001b[0mv\u001b[0m\u001b[0;34m\u001b[0m\u001b[0m\n",
      "\u001b[0;31mKeyboardInterrupt\u001b[0m: "
     ]
    }
   ],
   "source": [
    "model = CustomConvNet(weight_scale=0.001, use_batchnorm=False, conv_layers=1, num_filters=64, hidden_dim=100, reg=0.001)\n",
    "\n",
    "solver = Solver(model, data,\n",
    "            num_epochs=1, batch_size=50,\n",
    "                update_rule='adam',\n",
    "                optim_config={\n",
    "                  'learning_rate': 1e-3,\n",
    "                },\n",
    "                verbose=True, print_every=20)\n",
    "solver.train()"
   ]
  },
  {
   "cell_type": "code",
   "execution_count": 5,
   "metadata": {
    "collapsed": false
   },
   "outputs": [
    {
     "data": {
      "image/png": "[encoded data removed]",
      "text/plain": [
       "<matplotlib.figure.Figure at 0x10b442ad0>"
      ]
     },
     "metadata": {},
     "output_type": "display_data"
    }
   ],
   "source": [
    "plt.subplot(2, 1, 1)\n",
    "plt.plot(solver.loss_history, 'o')\n",
    "plt.xlabel('iteration')\n",
    "plt.ylabel('loss')\n",
    "\n",
    "plt.subplot(2, 1, 2)\n",
    "plt.plot(solver.train_acc_history, '-o')\n",
    "plt.plot(solver.val_acc_history, '-o')\n",
    "plt.legend(['train', 'val'], loc='upper left')\n",
    "plt.xlabel('epoch')\n",
    "plt.ylabel('accuracy')\n",
    "plt.show()"
   ]
  },
  {
   "cell_type": "code",
   "execution_count": 42,
   "metadata": {
    "collapsed": true
   },
   "outputs": [],
   "source": [
    "num_train = 5000\n",
    "small_data = {\n",
    "  'X_train': data['X_train'][:num_train],\n",
    "  'y_train': data['y_train'][:num_train],\n",
    "  'X_val': data['X_val'],\n",
    "  'y_val': data['y_val'],\n",
    "}"
   ]
  },
  {
   "cell_type": "code",
   "execution_count": 79,
   "metadata": {
    "collapsed": false
   },
   "outputs": [],
   "source": [
    "def train(weight_scale=0.001, use_batchnorm=False, conv_layers=1, num_filters=32, hidden_dim=500, reg=0.001, filter_size=3):\n",
    "    model = CustomConvNet(weight_scale=weight_scale, use_batchnorm=use_batchnorm, conv_layers=conv_layers, filter_size=filter_size, num_filters=num_filters, hidden_dim=hidden_dim, reg=reg)\n",
    "\n",
    "    solver = Solver(model, small_data,\n",
    "                    num_epochs=1, batch_size=50,\n",
    "                    update_rule='adam',\n",
    "                    optim_config={\n",
    "                      'learning_rate': 1e-3,\n",
    "                    },\n",
    "                    verbose=False, print_every=20)\n",
    "    solver.train()\n",
    "    print 'Best val accuracy %f' % solver.best_val_acc\n",
    "    return solver\n",
    "\n",
    "def train_full(weight_scale=0.001, use_batchnorm=False, conv_layers=1, num_filters=32, hidden_dim=500, reg=0.001, filter_size=3):\n",
    "    model = CustomConvNet(weight_scale=weight_scale, use_batchnorm=use_batchnorm, conv_layers=conv_layers, filter_size=filter_size, num_filters=num_filters, hidden_dim=hidden_dim, reg=reg)\n",
    "\n",
    "    solver = Solver(model, data,\n",
    "                    num_epochs=5, batch_size=50,\n",
    "                    update_rule='adam',\n",
    "                    optim_config={\n",
    "                      'learning_rate': 1e-3,\n",
    "                      'lr_decay': 0.99\n",
    "                    },\n",
    "                    verbose=True, print_every=20)\n",
    "    solver.train()\n",
    "    print 'Best val accuracy %f' % solver.best_val_acc\n",
    "    return solver"
   ]
  },
  {
   "cell_type": "code",
   "execution_count": 46,
   "metadata": {
    "collapsed": false
   },
   "outputs": [
    {
     "name": "stdout",
     "output_type": "stream",
     "text": [
      "Training with weight_scales 0.010000\n",
      "(Iteration 1 / 100) loss: 2.628037\n",
      "(Epoch 0 / 1) train acc: 0.137000; val_acc: 0.141000\n",
      "(Iteration 21 / 100) loss: 2.102934\n",
      "(Iteration 41 / 100) loss: 2.075205\n",
      "(Iteration 61 / 100) loss: 2.173189\n",
      "(Iteration 81 / 100) loss: 1.877705\n",
      "(Epoch 1 / 1) train acc: 0.427000; val_acc: 0.390000\n",
      "Best val accuracy 0.390000\n",
      "Training with weight_scales 0.001000\n",
      "(Iteration 1 / 100) loss: 2.304718\n",
      "(Epoch 0 / 1) train acc: 0.103000; val_acc: 0.102000\n",
      "(Iteration 21 / 100) loss: 1.985477\n",
      "(Iteration 41 / 100) loss: 2.062503\n",
      "(Iteration 61 / 100) loss: 1.820376\n",
      "(Iteration 81 / 100) loss: 1.781590\n",
      "(Epoch 1 / 1) train acc: 0.357000; val_acc: 0.345000\n",
      "Best val accuracy 0.345000\n",
      "500.000000: train_acc:0.405000 val_acc:0.373000\n",
      "50.000000: train_acc:0.396000 val_acc:0.357000\n",
      "0.001000: train_acc:0.357000 val_acc:0.345000\n",
      "100.000000: train_acc:0.351000 val_acc:0.358000\n",
      "0.010000: train_acc:0.427000 val_acc:0.390000\n"
     ]
    }
   ],
   "source": [
    "weight_scales = [0.01, 0.001] \n",
    "for w in weight_scales:\n",
    "    print 'Training with weight_scales %f' % w\n",
    "    s = train(weight_scale=w)\n",
    "    results['w%d'] = s\n",
    "    \n",
    "for k,v in results.iteritems():\n",
    "    print '%f: train_acc:%f val_acc:%f' % (k, v.train_acc_history[-1], v.val_acc_history[-1])"
   ]
  },
  {
   "cell_type": "code",
   "execution_count": 44,
   "metadata": {
    "collapsed": false
   },
   "outputs": [
    {
     "name": "stdout",
     "output_type": "stream",
     "text": [
      "Training with hidden_dim 50.000000\n",
      "(Iteration 1 / 100) loss: 2.302756\n",
      "(Epoch 0 / 1) train acc: 0.110000; val_acc: 0.087000\n",
      "(Iteration 21 / 100) loss: 2.076639\n",
      "(Iteration 41 / 100) loss: 1.896151\n",
      "(Iteration 61 / 100) loss: 1.911289\n",
      "(Iteration 81 / 100) loss: 1.763994\n",
      "(Epoch 1 / 1) train acc: 0.396000; val_acc: 0.357000\n",
      "Best val accuracy 0.357000\n",
      "Training with hidden_dim 100.000000\n",
      "(Iteration 1 / 100) loss: 2.302971\n",
      "(Epoch 0 / 1) train acc: 0.096000; val_acc: 0.075000\n",
      "(Iteration 21 / 100) loss: 2.233328\n",
      "(Iteration 41 / 100) loss: 2.058822\n",
      "(Iteration 61 / 100) loss: 2.065437\n",
      "(Iteration 81 / 100) loss: 1.950949\n",
      "(Epoch 1 / 1) train acc: 0.351000; val_acc: 0.358000\n",
      "Best val accuracy 0.358000\n",
      "Training with hidden_dim 500.000000\n",
      "(Iteration 1 / 100) loss: 2.304615\n",
      "(Epoch 0 / 1) train acc: 0.093000; val_acc: 0.102000\n",
      "(Iteration 21 / 100) loss: 2.037856\n",
      "(Iteration 41 / 100) loss: 2.021698\n",
      "(Iteration 61 / 100) loss: 1.773564\n",
      "(Iteration 81 / 100) loss: 1.656124\n",
      "(Epoch 1 / 1) train acc: 0.405000; val_acc: 0.373000\n",
      "Best val accuracy 0.373000\n",
      "500.000000: train_acc:0.405000 val_acc:0.373000\n",
      "50.000000: train_acc:0.396000 val_acc:0.357000\n",
      "100.000000: train_acc:0.351000 val_acc:0.358000\n"
     ]
    }
   ],
   "source": [
    "hidden_dim = [50, 100, 500]\n",
    "#500.000000: train_acc:0.405000 val_acc:0.373000\n",
    "#50.000000: train_acc:0.396000 val_acc:0.357000\n",
    "#100.000000: train_acc:0.351000 val_acc:0.358000\n",
    "results = {}\n",
    "\n",
    "for h in hidden_dim:\n",
    "    print 'Training with hidden_dim %f' % h\n",
    "    s = train(hidden_dim=h)\n",
    "    results['h%d' % h] = s\n",
    "    \n",
    "for k,v in results.iteritems():\n",
    "    print '%f: train_acc:%f val_acc:%f' % (k, v.train_acc_history[-1], v.val_acc_history[-1])"
   ]
  },
  {
   "cell_type": "code",
   "execution_count": 51,
   "metadata": {
    "collapsed": false
   },
   "outputs": [
    {
     "name": "stdout",
     "output_type": "stream",
     "text": [
      "100: train_acc:0.351000 val_acc:0.358000\n",
      "bn: train_acc:0.305000 val_acc:0.324000\n",
      "0.001: train_acc:0.357000 val_acc:0.345000\n",
      "50: train_acc:0.396000 val_acc:0.357000\n",
      "500: train_acc:0.405000 val_acc:0.373000\n",
      "0.01: train_acc:0.427000 val_acc:0.390000\n"
     ]
    }
   ],
   "source": [
    "s = train(use_batchnorm=True)\n",
    "results['bn'] = s\n",
    "#bn: train_acc:0.305000 val_acc:0.324000\n",
    "\n",
    "for k,v in results.iteritems():\n",
    "    print '%s: train_acc:%f val_acc:%f' % (k, v.train_acc_history[-1], v.val_acc_history[-1])"
   ]
  },
  {
   "cell_type": "code",
   "execution_count": 56,
   "metadata": {
    "collapsed": false
   },
   "outputs": [
    {
     "name": "stdout",
     "output_type": "stream",
     "text": [
      "Training with filter_size 7.000000\n",
      "Best val accuracy 0.380000\n",
      "Training with filter_size 5.000000\n",
      "Best val accuracy 0.375000\n",
      "Training with filter_size 3.000000\n",
      "Best val accuracy 0.386000\n",
      "f3: train_acc:0.419000 val_acc:0.386000\n",
      "f5: train_acc:0.389000 val_acc:0.375000\n",
      "f7: train_acc:0.383000 val_acc:0.380000\n"
     ]
    }
   ],
   "source": [
    "filter_size = [7, 5, 3]\n",
    "\n",
    "for f in filter_size:\n",
    "    print 'Training with filter_size %f' % f\n",
    "    s = train(filter_size=f)\n",
    "    results['f%d' % f] = s\n",
    "    \n",
    "for k,v in results.iteritems():\n",
    "    print '%s: train_acc:%f val_acc:%f' % (k, v.train_acc_history[-1], v.val_acc_history[-1])"
   ]
  },
  {
   "cell_type": "code",
   "execution_count": 62,
   "metadata": {
    "collapsed": false
   },
   "outputs": [
    {
     "name": "stdout",
     "output_type": "stream",
     "text": [
      "Training with p (0.01, 500, 0.01, 32, 2)\n",
      "Best val accuracy 0.423000\n",
      "Training with p (0.01, 500, 0.01, 48, 2)\n",
      "Best val accuracy 0.365000\n",
      "Training with p (0.01, 500, 0.01, 32, 3)\n",
      "Best val accuracy 0.327000\n",
      "Training with p (0.01, 500, 0.01, 48, 3)\n",
      "Best val accuracy 0.339000\n",
      "Training with p (0.01, 500, 0.001, 32, 1)\n",
      "Best val accuracy 0.381000\n",
      "Training with p (0.01, 500, 0.01, 32, 1)\n",
      "Best val accuracy 0.398000\n",
      "Training with p (0.01, 600, 0.01, 32, 1)\n",
      "Best val accuracy 0.344000\n",
      "Training with p (0.01, 400, 0.01, 32, 1)\n",
      "Best val accuracy 0.375000\n",
      "Training with p (0.01, 500, 0.01, 48, 1)\n",
      "Best val accuracy 0.384000\n",
      "Training with p (0.03, 500, 0.01, 32, 1)\n",
      "Best val accuracy 0.390000\n",
      "Training with p (0.05, 500, 0.01, 32, 1)\n",
      "Best val accuracy 0.240000\n",
      "Training with p (0.009, 500, 0.01, 32, 1)\n",
      "Best val accuracy 0.362000\n",
      "Training with p (0.01, 500, 0.1, 32, 1)\n",
      "Best val accuracy 0.353000\n",
      "Training with p (0.01, 500, 0.001, 16, 1)\n",
      "Best val accuracy 0.400000\n",
      "Training with p (0.01, 500, 0.01, 32, 1)\n",
      "Best val accuracy 0.391000\n",
      "(0.009, 500, 0.01, 32, 1): train_acc:0.376000 val_acc:0.362000\n",
      "(0.01, 500, 0.01, 32, 3): train_acc:0.351000 val_acc:0.327000\n",
      "(0.03, 500, 0.01, 32, 1): train_acc:0.434000 val_acc:0.390000\n",
      "(0.01, 500, 0.01, 48, 1): train_acc:0.407000 val_acc:0.384000\n",
      "(0.01, 500, 0.001, 32, 1): train_acc:0.373000 val_acc:0.381000\n",
      "(0.01, 500, 0.01, 32, 2): train_acc:0.448000 val_acc:0.423000\n",
      "(0.05, 500, 0.01, 32, 1): train_acc:0.269000 val_acc:0.240000\n",
      "(0.01, 600, 0.01, 32, 1): train_acc:0.354000 val_acc:0.344000\n",
      "(0.01, 500, 0.01, 48, 3): train_acc:0.308000 val_acc:0.339000\n",
      "(0.01, 500, 0.1, 32, 1): train_acc:0.397000 val_acc:0.353000\n",
      "(0.01, 500, 0.01, 32, 1): train_acc:0.409000 val_acc:0.391000\n",
      "(0.01, 500, 0.001, 16, 1): train_acc:0.451000 val_acc:0.400000\n",
      "(0.01, 400, 0.01, 32, 1): train_acc:0.393000 val_acc:0.375000\n",
      "(0.01, 500, 0.01, 48, 2): train_acc:0.421000 val_acc:0.365000\n"
     ]
    }
   ],
   "source": [
    "# weight_scale, hidden_dim, reg, num_filters\n",
    "\n",
    "params = [\n",
    "            (0.01, 500, 0.01, 32, 2),\n",
    "         ]\n",
    "\n",
    "# (0.01, 500, 0.001, 32) val_acc:0.370000\n",
    "# (0.01, 500, 0.01, 32) 0.414000\n",
    "# (0.01, 500, 0.1, 32) 0.405000\n",
    "# (0.01, 500, 0.001, 16) 0.377000\n",
    "# (0.01, 1000, 0.001, 32) 0.396000\n",
    "\n",
    "#(0.009, 500, 0.01, 32, 1): train_acc:0.376000 val_acc:0.362000\n",
    "#(0.01, 500, 0.01, 32, 3): train_acc:0.351000 val_acc:0.327000\n",
    "#(0.03, 500, 0.01, 32, 1): train_acc:0.434000 val_acc:0.390000\n",
    "#(0.01, 500, 0.01, 48, 1): train_acc:0.407000 val_acc:0.384000\n",
    "#(0.01, 500, 0.001, 32, 1): train_acc:0.373000 val_acc:0.381000\n",
    "#(0.01, 500, 0.01, 32, 2): train_acc:0.448000 val_acc:0.423000\n",
    "#(0.05, 500, 0.01, 32, 1): train_acc:0.269000 val_acc:0.240000\n",
    "#(0.01, 600, 0.01, 32, 1): train_acc:0.354000 val_acc:0.344000\n",
    "#(0.01, 500, 0.01, 48, 3): train_acc:0.308000 val_acc:0.339000\n",
    "#(0.01, 500, 0.1, 32, 1): train_acc:0.397000 val_acc:0.353000\n",
    "#(0.01, 500, 0.01, 32, 1): train_acc:0.409000 val_acc:0.391000\n",
    "#(0.01, 500, 0.001, 16, 1): train_acc:0.451000 val_acc:0.400000\n",
    "#(0.01, 400, 0.01, 32, 1): train_acc:0.393000 val_acc:0.375000\n",
    "#(0.01, 500, 0.01, 48, 2): train_acc:0.421000 val_acc:0.365000\n",
    "            \n",
    "results = {}\n",
    "\n",
    "for p in params:\n",
    "    print 'Training with p', p\n",
    "    w, h, reg, filters, c = p\n",
    "    s = train(weight_scale=w, hidden_dim=h, reg=reg, num_filters=filters, conv_layers=c)\n",
    "    results[p] = s\n",
    "    \n",
    "for k,v in results.iteritems():\n",
    "    print '%s: train_acc:%f val_acc:%f' % (str(k), v.train_acc_history[-1], v.val_acc_history[-1])"
   ]
  },
  {
   "cell_type": "code",
   "execution_count": null,
   "metadata": {
    "collapsed": false
   },
   "outputs": [
    {
     "name": "stdout",
     "output_type": "stream",
     "text": [
      "Training with p (0.01, 500, 0.01, 32, 3, 5)\n",
      "(Iteration 1 / 4900) loss: 2.461398\n",
      "(Epoch 0 / 5) train acc: 0.090000; val_acc: 0.114000\n",
      "(Iteration 21 / 4900) loss: 2.036555\n",
      "(Iteration 41 / 4900) loss: 2.093730\n",
      "(Iteration 61 / 4900) loss: 2.129284\n",
      "(Iteration 81 / 4900) loss: 1.759815\n",
      "(Iteration 101 / 4900) loss: 2.054381\n",
      "(Iteration 121 / 4900) loss: 1.623914\n",
      "(Iteration 141 / 4900) loss: 1.565334"
     ]
    }
   ],
   "source": [
    "# weight_scale, hidden_dim, reg, num_filters, filter_size\n",
    "\n",
    "params = [\n",
    "            (0.01, 500, 0.01, 32, 3, 5),\n",
    "         ]\n",
    "\n",
    "# (0.01, 500, 0.001, 32) val_acc:0.370000\n",
    "# (0.01, 500, 0.01, 32) 0.414000\n",
    "# (0.01, 500, 0.1, 32) 0.405000\n",
    "# (0.01, 500, 0.001, 16) 0.377000\n",
    "# (0.01, 1000, 0.001, 32) 0.396000\n",
    "\n",
    "#(0.009, 500, 0.01, 32, 1): train_acc:0.376000 val_acc:0.362000\n",
    "#(0.01, 500, 0.01, 32, 3): train_acc:0.351000 val_acc:0.327000\n",
    "#(0.03, 500, 0.01, 32, 1): train_acc:0.434000 val_acc:0.390000\n",
    "#(0.01, 500, 0.01, 48, 1): train_acc:0.407000 val_acc:0.384000\n",
    "#(0.01, 500, 0.001, 32, 1): train_acc:0.373000 val_acc:0.381000\n",
    "#(0.01, 500, 0.01, 32, 2): train_acc:0.448000 val_acc:0.423000\n",
    "#(0.05, 500, 0.01, 32, 1): train_acc:0.269000 val_acc:0.240000\n",
    "#(0.01, 600, 0.01, 32, 1): train_acc:0.354000 val_acc:0.344000\n",
    "#(0.01, 500, 0.01, 48, 3): train_acc:0.308000 val_acc:0.339000\n",
    "#(0.01, 500, 0.1, 32, 1): train_acc:0.397000 val_acc:0.353000\n",
    "#(0.01, 500, 0.01, 32, 1): train_acc:0.409000 val_acc:0.391000\n",
    "#(0.01, 500, 0.001, 16, 1): train_acc:0.451000 val_acc:0.400000\n",
    "#(0.01, 400, 0.01, 32, 1): train_acc:0.393000 val_acc:0.375000\n",
    "#(0.01, 500, 0.01, 48, 2): train_acc:0.421000 val_acc:0.365000\n",
    "            \n",
    "for p in params:\n",
    "    print 'Training with p', p\n",
    "    w, h, reg, filters, c, f = p\n",
    "    s = train_full(weight_scale=w, hidden_dim=h, reg=reg, num_filters=filters, conv_layers=c, filter_size=f)\n",
    "    results[p] = s\n",
    "    \n",
    "for k,v in results.iteritems():\n",
    "    print '%s: train_acc:%f val_acc:%f' % (str(k), v.train_acc_history[-1], v.val_acc_history[-1])"
   ]
  },
  {
   "cell_type": "code",
   "execution_count": 71,
   "metadata": {
    "collapsed": false
   },
   "outputs": [
    {
     "name": "stdout",
     "output_type": "stream",
     "text": [
      "(Iteration 1 / 4900) loss: 0.875002\n",
      "(Epoch 0 / 5) train acc: 0.785000; val_acc: 0.753000\n",
      "(Iteration 21 / 4900) loss: 0.849821\n",
      "(Iteration 41 / 4900) loss: 0.930855\n",
      "(Iteration 61 / 4900) loss: 0.779834\n",
      "(Iteration 81 / 4900) loss: 0.965055\n",
      "(Iteration 101 / 4900) loss: 1.004233\n",
      "(Iteration 121 / 4900) loss: 0.812089\n",
      "(Iteration 141 / 4900) loss: 0.779637\n",
      "(Iteration 161 / 4900) loss: 0.828388\n",
      "(Iteration 181 / 4900) loss: 0.675681\n",
      "(Iteration 201 / 4900) loss: 0.876269\n",
      "(Iteration 221 / 4900) loss: 0.754337\n",
      "(Iteration 241 / 4900) loss: 0.899617\n",
      "(Iteration 261 / 4900) loss: 1.051439\n",
      "(Iteration 281 / 4900) loss: 0.741373\n",
      "(Iteration 301 / 4900) loss: 0.815148\n",
      "(Iteration 321 / 4900) loss: 0.675291\n",
      "(Iteration 341 / 4900) loss: 0.688571\n",
      "(Iteration 361 / 4900) loss: 0.570902\n",
      "(Iteration 381 / 4900) loss: 0.989152\n",
      "(Iteration 401 / 4900) loss: 0.686921\n",
      "(Iteration 421 / 4900) loss: 0.888529\n",
      "(Iteration 441 / 4900) loss: 0.645746\n",
      "(Iteration 461 / 4900) loss: 0.988668\n",
      "(Iteration 481 / 4900) loss: 0.735332\n",
      "(Iteration 501 / 4900) loss: 0.727817\n",
      "(Iteration 521 / 4900) loss: 0.696882\n",
      "(Iteration 541 / 4900) loss: 0.698403\n",
      "(Iteration 561 / 4900) loss: 0.598435\n",
      "(Iteration 581 / 4900) loss: 0.695071\n",
      "(Iteration 601 / 4900) loss: 0.660927\n",
      "(Iteration 621 / 4900) loss: 0.610937\n",
      "(Iteration 641 / 4900) loss: 0.621877\n",
      "(Iteration 661 / 4900) loss: 0.735453\n",
      "(Iteration 681 / 4900) loss: 0.702747\n",
      "(Iteration 701 / 4900) loss: 0.709830\n",
      "(Iteration 721 / 4900) loss: 0.757221\n",
      "(Iteration 741 / 4900) loss: 0.595126\n",
      "(Iteration 761 / 4900) loss: 0.674942\n",
      "(Iteration 781 / 4900) loss: 0.777256\n",
      "(Iteration 801 / 4900) loss: 0.764515\n",
      "(Iteration 821 / 4900) loss: 0.848746\n",
      "(Iteration 841 / 4900) loss: 0.714429\n",
      "(Iteration 861 / 4900) loss: 0.841043\n",
      "(Iteration 881 / 4900) loss: 0.746734\n",
      "(Iteration 901 / 4900) loss: 0.797525\n",
      "(Iteration 921 / 4900) loss: 1.003192\n",
      "(Iteration 941 / 4900) loss: 0.695158\n",
      "(Iteration 961 / 4900) loss: 0.749676\n",
      "(Epoch 1 / 5) train acc: 0.813000; val_acc: 0.748000\n",
      "(Iteration 981 / 4900) loss: 0.792177\n",
      "(Iteration 1001 / 4900) loss: 0.852136\n",
      "(Iteration 1021 / 4900) loss: 0.795976\n",
      "(Iteration 1041 / 4900) loss: 0.785526\n",
      "(Iteration 1061 / 4900) loss: 0.653834\n",
      "(Iteration 1081 / 4900) loss: 0.708973\n",
      "(Iteration 1101 / 4900) loss: 0.652853\n",
      "(Iteration 1121 / 4900) loss: 0.617790\n",
      "(Iteration 1141 / 4900) loss: 0.879493\n",
      "(Iteration 1161 / 4900) loss: 0.648863\n",
      "(Iteration 1181 / 4900) loss: 0.657348\n",
      "(Iteration 1201 / 4900) loss: 0.812308\n",
      "(Iteration 1221 / 4900) loss: 1.004581\n",
      "(Iteration 1241 / 4900) loss: 0.957399\n",
      "(Iteration 1261 / 4900) loss: 1.037957\n",
      "(Iteration 1281 / 4900) loss: 1.119239\n",
      "(Iteration 1301 / 4900) loss: 0.580438\n",
      "(Iteration 1321 / 4900) loss: 0.623810\n",
      "(Iteration 1341 / 4900) loss: 0.897431\n",
      "(Iteration 1361 / 4900) loss: 0.706532\n",
      "(Iteration 1381 / 4900) loss: 0.901193\n",
      "(Iteration 1401 / 4900) loss: 0.863511\n",
      "(Iteration 1421 / 4900) loss: 0.782491\n",
      "(Iteration 1441 / 4900) loss: 1.167576\n",
      "(Iteration 1461 / 4900) loss: 0.590163\n",
      "(Iteration 1481 / 4900) loss: 0.818555\n",
      "(Iteration 1501 / 4900) loss: 0.882481\n",
      "(Iteration 1521 / 4900) loss: 0.878195\n",
      "(Iteration 1541 / 4900) loss: 0.930987\n",
      "(Iteration 1561 / 4900) loss: 0.834221\n",
      "(Iteration 1581 / 4900) loss: 0.696573\n",
      "(Iteration 1601 / 4900) loss: 0.663697\n",
      "(Iteration 1621 / 4900) loss: 0.757589\n",
      "(Iteration 1641 / 4900) loss: 0.651955\n",
      "(Iteration 1661 / 4900) loss: 0.801125\n",
      "(Iteration 1681 / 4900) loss: 0.941665\n",
      "(Iteration 1701 / 4900) loss: 1.046859\n",
      "(Iteration 1721 / 4900) loss: 0.683508\n",
      "(Iteration 1741 / 4900) loss: 0.713827\n",
      "(Iteration 1761 / 4900) loss: 0.620276\n",
      "(Iteration 1781 / 4900) loss: 0.691610\n",
      "(Iteration 1801 / 4900) loss: 0.590930\n",
      "(Iteration 1821 / 4900) loss: 0.734695\n",
      "(Iteration 1841 / 4900) loss: 0.661824\n",
      "(Iteration 1861 / 4900) loss: 0.744123\n",
      "(Iteration 1881 / 4900) loss: 0.804989\n",
      "(Iteration 1901 / 4900) loss: 0.818327\n",
      "(Iteration 1921 / 4900) loss: 0.816914\n",
      "(Iteration 1941 / 4900) loss: 0.777474\n",
      "(Epoch 2 / 5) train acc: 0.785000; val_acc: 0.756000\n",
      "(Iteration 1961 / 4900) loss: 0.716983\n",
      "(Iteration 1981 / 4900) loss: 0.877725\n",
      "(Iteration 2001 / 4900) loss: 0.866204\n",
      "(Iteration 2021 / 4900) loss: 0.788176\n",
      "(Iteration 2041 / 4900) loss: 0.693671\n",
      "(Iteration 2061 / 4900) loss: 0.808895\n",
      "(Iteration 2081 / 4900) loss: 0.728588\n",
      "(Iteration 2101 / 4900) loss: 1.037749\n",
      "(Iteration 2121 / 4900) loss: 0.721703\n",
      "(Iteration 2141 / 4900) loss: 0.830236\n",
      "(Iteration 2161 / 4900) loss: 0.810417\n",
      "(Iteration 2181 / 4900) loss: 0.660371\n",
      "(Iteration 2201 / 4900) loss: 0.825234\n",
      "(Iteration 2221 / 4900) loss: 0.888706\n",
      "(Iteration 2241 / 4900) loss: 0.673522\n",
      "(Iteration 2261 / 4900) loss: 0.587791\n",
      "(Iteration 2281 / 4900) loss: 1.002855\n",
      "(Iteration 2301 / 4900) loss: 0.884019\n",
      "(Iteration 2321 / 4900) loss: 0.782290\n",
      "(Iteration 2341 / 4900) loss: 0.680792\n",
      "(Iteration 2361 / 4900) loss: 0.733339\n",
      "(Iteration 2381 / 4900) loss: 0.823576\n",
      "(Iteration 2401 / 4900) loss: 0.788588\n",
      "(Iteration 2421 / 4900) loss: 0.773865\n",
      "(Iteration 2441 / 4900) loss: 0.671907\n",
      "(Iteration 2461 / 4900) loss: 0.869610\n",
      "(Iteration 2481 / 4900) loss: 0.805030\n",
      "(Iteration 2501 / 4900) loss: 0.714687\n",
      "(Iteration 2521 / 4900) loss: 0.784771\n",
      "(Iteration 2541 / 4900) loss: 0.714291\n",
      "(Iteration 2561 / 4900) loss: 0.764331\n",
      "(Iteration 2581 / 4900) loss: 0.635024\n",
      "(Iteration 2601 / 4900) loss: 1.105365\n",
      "(Iteration 2621 / 4900) loss: 0.810866\n",
      "(Iteration 2641 / 4900) loss: 0.808986\n",
      "(Iteration 2661 / 4900) loss: 0.956257\n",
      "(Iteration 2681 / 4900) loss: 0.545846\n",
      "(Iteration 2701 / 4900) loss: 0.607044\n",
      "(Iteration 2721 / 4900) loss: 0.709078\n",
      "(Iteration 2741 / 4900) loss: 0.687363\n",
      "(Iteration 2761 / 4900) loss: 0.960144\n",
      "(Iteration 2781 / 4900) loss: 0.808927\n",
      "(Iteration 2801 / 4900) loss: 0.754751\n",
      "(Iteration 2821 / 4900) loss: 0.673113\n",
      "(Iteration 2841 / 4900) loss: 0.844454\n",
      "(Iteration 2861 / 4900) loss: 0.812273\n",
      "(Iteration 2881 / 4900) loss: 0.864125\n",
      "(Iteration 2901 / 4900) loss: 0.826841\n",
      "(Iteration 2921 / 4900) loss: 0.512323\n",
      "(Epoch 3 / 5) train acc: 0.789000; val_acc: 0.746000\n",
      "(Iteration 2941 / 4900) loss: 0.935887\n",
      "(Iteration 2961 / 4900) loss: 0.738463\n",
      "(Iteration 2981 / 4900) loss: 0.652717\n",
      "(Iteration 3001 / 4900) loss: 0.755058\n",
      "(Iteration 3021 / 4900) loss: 0.936680\n",
      "(Iteration 3041 / 4900) loss: 0.699877\n",
      "(Iteration 3061 / 4900) loss: 0.777680\n",
      "(Iteration 3081 / 4900) loss: 0.701609\n",
      "(Iteration 3101 / 4900) loss: 0.779837\n",
      "(Iteration 3121 / 4900) loss: 0.610746\n",
      "(Iteration 3141 / 4900) loss: 0.593878\n",
      "(Iteration 3161 / 4900) loss: 0.755807\n",
      "(Iteration 3181 / 4900) loss: 0.704366\n",
      "(Iteration 3201 / 4900) loss: 0.935086\n",
      "(Iteration 3221 / 4900) loss: 0.914076\n",
      "(Iteration 3241 / 4900) loss: 0.825748\n",
      "(Iteration 3261 / 4900) loss: 0.592175\n",
      "(Iteration 3281 / 4900) loss: 1.066616\n",
      "(Iteration 3301 / 4900) loss: 1.007226\n",
      "(Iteration 3321 / 4900) loss: 0.772257\n",
      "(Iteration 3341 / 4900) loss: 0.660524\n",
      "(Iteration 3361 / 4900) loss: 0.967466\n",
      "(Iteration 3381 / 4900) loss: 0.763054\n",
      "(Iteration 3401 / 4900) loss: 0.641259\n",
      "(Iteration 3421 / 4900) loss: 0.667691\n",
      "(Iteration 3441 / 4900) loss: 0.695778\n",
      "(Iteration 3461 / 4900) loss: 0.883057\n",
      "(Iteration 3481 / 4900) loss: 0.761562\n",
      "(Iteration 3501 / 4900) loss: 0.868847\n",
      "(Iteration 3521 / 4900) loss: 0.733371\n",
      "(Iteration 3541 / 4900) loss: 0.697345\n",
      "(Iteration 3561 / 4900) loss: 0.575907\n",
      "(Iteration 3581 / 4900) loss: 0.862193\n",
      "(Iteration 3601 / 4900) loss: 0.711462\n",
      "(Iteration 3621 / 4900) loss: 0.563364\n",
      "(Iteration 3641 / 4900) loss: 0.946603\n",
      "(Iteration 3661 / 4900) loss: 0.887917\n",
      "(Iteration 3681 / 4900) loss: 0.757095\n",
      "(Iteration 3701 / 4900) loss: 0.826774\n",
      "(Iteration 3721 / 4900) loss: 0.736390\n",
      "(Iteration 3741 / 4900) loss: 0.815412\n",
      "(Iteration 3761 / 4900) loss: 0.723547\n",
      "(Iteration 3781 / 4900) loss: 0.628155\n",
      "(Iteration 3801 / 4900) loss: 0.851622\n",
      "(Iteration 3821 / 4900) loss: 0.870478\n",
      "(Iteration 3841 / 4900) loss: 0.870006\n",
      "(Iteration 3861 / 4900) loss: 0.715664\n",
      "(Iteration 3881 / 4900) loss: 0.889042\n",
      "(Iteration 3901 / 4900) loss: 0.763605\n",
      "(Epoch 4 / 5) train acc: 0.786000; val_acc: 0.750000\n",
      "(Iteration 3921 / 4900) loss: 0.956170\n",
      "(Iteration 3941 / 4900) loss: 0.642015\n",
      "(Iteration 3961 / 4900) loss: 0.672895\n",
      "(Iteration 3981 / 4900) loss: 0.531573\n",
      "(Iteration 4001 / 4900) loss: 0.958587\n",
      "(Iteration 4021 / 4900) loss: 0.734928\n",
      "(Iteration 4041 / 4900) loss: 0.891010\n",
      "(Iteration 4061 / 4900) loss: 0.724054\n",
      "(Iteration 4081 / 4900) loss: 1.036870\n",
      "(Iteration 4101 / 4900) loss: 0.508611\n",
      "(Iteration 4121 / 4900) loss: 0.798731\n",
      "(Iteration 4141 / 4900) loss: 0.763657\n",
      "(Iteration 4161 / 4900) loss: 0.919147\n",
      "(Iteration 4181 / 4900) loss: 0.937442\n",
      "(Iteration 4201 / 4900) loss: 0.657023\n",
      "(Iteration 4221 / 4900) loss: 0.622055\n",
      "(Iteration 4241 / 4900) loss: 1.028026\n",
      "(Iteration 4261 / 4900) loss: 0.635400\n",
      "(Iteration 4281 / 4900) loss: 0.789370\n",
      "(Iteration 4301 / 4900) loss: 0.697653\n",
      "(Iteration 4321 / 4900) loss: 0.834147\n",
      "(Iteration 4341 / 4900) loss: 1.139131\n",
      "(Iteration 4361 / 4900) loss: 0.643042\n",
      "(Iteration 4381 / 4900) loss: 0.646774\n",
      "(Iteration 4401 / 4900) loss: 1.023631\n",
      "(Iteration 4421 / 4900) loss: 0.719077\n",
      "(Iteration 4441 / 4900) loss: 0.593593\n",
      "(Iteration 4461 / 4900) loss: 0.735982\n",
      "(Iteration 4481 / 4900) loss: 0.854995\n",
      "(Iteration 4501 / 4900) loss: 0.882484\n",
      "(Iteration 4521 / 4900) loss: 0.506661\n",
      "(Iteration 4541 / 4900) loss: 0.675789\n",
      "(Iteration 4561 / 4900) loss: 0.786301\n",
      "(Iteration 4581 / 4900) loss: 0.826631\n",
      "(Iteration 4601 / 4900) loss: 0.920094\n",
      "(Iteration 4621 / 4900) loss: 1.260954\n",
      "(Iteration 4641 / 4900) loss: 0.837402\n",
      "(Iteration 4661 / 4900) loss: 0.942164\n",
      "(Iteration 4681 / 4900) loss: 0.743739\n",
      "(Iteration 4701 / 4900) loss: 0.767323\n",
      "(Iteration 4721 / 4900) loss: 0.571352\n",
      "(Iteration 4741 / 4900) loss: 0.739472\n",
      "(Iteration 4761 / 4900) loss: 0.861321\n",
      "(Iteration 4781 / 4900) loss: 0.717757\n",
      "(Iteration 4801 / 4900) loss: 0.885789\n",
      "(Iteration 4821 / 4900) loss: 0.649647\n",
      "(Iteration 4841 / 4900) loss: 0.871565\n",
      "(Iteration 4861 / 4900) loss: 0.926196\n",
      "(Iteration 4881 / 4900) loss: 0.733988\n",
      "(Epoch 5 / 5) train acc: 0.772000; val_acc: 0.753000\n"
     ]
    }
   ],
   "source": [
    "#solver = results[(0.01, 500, 0.01, 20, 3)]\n",
    "m = solver.model\n",
    "\n",
    "solver = Solver(m, data,\n",
    "                num_epochs=5, batch_size=50,\n",
    "                update_rule='adam',\n",
    "                optim_config={\n",
    "                  'learning_rate': 1e-5,\n",
    "                },\n",
    "                verbose=True, print_every=20)\n",
    "solver.train()"
   ]
  },
  {
   "cell_type": "code",
   "execution_count": 77,
   "metadata": {
    "collapsed": false
   },
   "outputs": [
    {
     "data": {
      "image/png": "[encoded data removed]",
      "text/plain": [
       "<matplotlib.figure.Figure at 0x10ae02f90>"
      ]
     },
     "metadata": {},
     "output_type": "display_data"
    }
   ],
   "source": [
    "plt.subplot(2, 1, 1)\n",
    "plt.plot(s.loss_history, 'o')\n",
    "plt.xlabel('iteration')\n",
    "plt.ylabel('loss')\n",
    "\n",
    "plt.subplot(2, 1, 2)\n",
    "plt.plot(s.train_acc_history, '-o')\n",
    "plt.plot(s.val_acc_history, '-o')\n",
    "plt.legend(['train', 'val'], loc='upper left')\n",
    "plt.xlabel('epoch')\n",
    "plt.ylabel('accuracy')\n",
    "plt.show()"
   ]
  },
  {
   "cell_type": "code",
   "execution_count": 73,
   "metadata": {
    "collapsed": false
   },
   "outputs": [
    {
     "data": {
      "image/png": "[encoded data removed]",
      "text/plain": [
       "<matplotlib.figure.Figure at 0x109708ad0>"
      ]
     },
     "metadata": {},
     "output_type": "display_data"
    }
   ],
   "source": [
    "from cs231n.vis_utils import visualize_grid\n",
    "\n",
    "grid = visualize_grid(solver.model.params['W1'].transpose(0, 2, 3, 1))\n",
    "plt.imshow(grid.astype('uint8'))\n",
    "plt.axis('off')\n",
    "plt.gcf().set_size_inches(5, 5)\n",
    "plt.show()"
   ]
  },
  {
   "cell_type": "code",
   "execution_count": null,
   "metadata": {
    "collapsed": true
   },
   "outputs": [],
   "source": []
  }
 ],
 "metadata": {
  "kernelspec": {
   "display_name": "Python 2",
   "language": "python",
   "name": "python2"
  },
  "language_info": {
   "codemirror_mode": {
    "name": "ipython",
    "version": 2
   },
   "file_extension": ".py",
   "mimetype": "text/x-python",
   "name": "python",
   "nbconvert_exporter": "python",
   "pygments_lexer": "ipython2",
   "version": "2.7.10"
  }
 },
 "nbformat": 4,
 "nbformat_minor": 0
}
